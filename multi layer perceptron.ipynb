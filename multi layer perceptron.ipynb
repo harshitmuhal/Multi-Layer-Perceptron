{
 "cells": [
  {
   "cell_type": "code",
   "execution_count": 202,
   "metadata": {},
   "outputs": [],
   "source": [
    "import numpy as np\n",
    "import pandas as pd\n",
    "import matplotlib.pyplot as plt\n",
    "from sklearn.metrics import confusion_matrix"
   ]
  },
  {
   "cell_type": "code",
   "execution_count": 14,
   "metadata": {},
   "outputs": [
    {
     "name": "stdout",
     "output_type": "stream",
     "text": [
      "X1    0\n",
      "X2    0\n",
      "dtype: int64\n"
     ]
    }
   ],
   "source": [
    "df=pd.read_csv('data.csv')\n",
    "x=df[df.columns[:-1]]\n",
    "y=df['Y'].values.reshape((10,1))\n",
    "print(x.isnull().sum())"
   ]
  },
  {
   "cell_type": "code",
   "execution_count": 15,
   "metadata": {},
   "outputs": [],
   "source": [
    "def sigmoid(z):\n",
    "    output=1/(1+np.exp(-z))\n",
    "    return output"
   ]
  },
  {
   "cell_type": "code",
   "execution_count": 16,
   "metadata": {},
   "outputs": [],
   "source": [
    "def derivative_tanh(z):\n",
    "    derivative=4/(np.exp(z)+np.exp(-z))**2\n",
    "    return derivative"
   ]
  },
  {
   "cell_type": "code",
   "execution_count": 140,
   "metadata": {},
   "outputs": [],
   "source": [
    "class NeuralNetwork():\n",
    "    \n",
    "    def __init__(self,input_node,node,ouput_node):\n",
    "        \n",
    "        #initialising weights for hidden layer 1\n",
    "        w1=np.random.randn(input_node,node[0])\n",
    "        b1=np.random.randn(1,node[0])\n",
    "        \n",
    "        #initialising weights for output layer\n",
    "        w2=np.random.randn(node[0],output_node)\n",
    "        b2=np.random.randn(1,output_node)\n",
    "        \n",
    "        self.model={'w1':w1,'b1':b1,'w2':w2,'b2':b2}\n",
    "        \n",
    "    def forward_propagation(self,x):\n",
    "        \n",
    "        w1,w2=self.model['w1'],self.model['w2']\n",
    "        b1,b2=self.model['b1'],self.model['b2']\n",
    "        \n",
    "        z1=np.dot(x,w1)+b1\n",
    "        a1=np.tanh(z1)\n",
    "        \n",
    "        z2=np.dot(a1,w2)+b2\n",
    "        a2=sigmoid(z2)\n",
    "        \n",
    "        self.activation=[a1,a2]\n",
    "        self.z=[z1,z2]\n",
    "        return a2\n",
    "        \n",
    "    def backward_propagation(self,x,y,learning_rate=0.1):\n",
    "        \n",
    "        w1,w2=self.model['w1'],self.model['w2']\n",
    "        b1,b2=self.model['b1'],self.model['b2']\n",
    "        [a1,a2]=self.activation\n",
    "        [z1,z2]=self.z\n",
    "        m=y.shape[0]\n",
    "        \n",
    "        #slope term means d(a)/d(z). more clearly for a particular hidden layer slope=d(output)/d(input)\n",
    "        slope2=a2*(1-a2)\n",
    "        delta2=a2-y\n",
    "        dw2=np.dot(a1.T,delta2)/m\n",
    "        db2=np.sum(delta2,axis=0)/m\n",
    "        \n",
    "        slope1=derivative_tanh(z1)\n",
    "        delta1=(np.dot(delta2,w2.T))*slope1\n",
    "        dw1=np.dot(x.T,delta1)/m\n",
    "        db1=np.sum(delta1,axis=0)/m\n",
    "        \n",
    "        w2-=learning_rate*dw2\n",
    "        b2-=learning_rate*db2\n",
    "        w1-=learning_rate*dw1\n",
    "        b1-=learning_rate*db1\n",
    "        \n",
    "        self.model={'w1':w1,'b1':b1,'w2':w2,'b2':b2}"
   ]
  },
  {
   "cell_type": "code",
   "execution_count": 189,
   "metadata": {},
   "outputs": [],
   "source": [
    "def loss_func(hx,y):\n",
    "    cost=(-1)*((y*np.log(hx)+(1-y)*np.log(1-hx)).mean())\n",
    "    return (cost/y.shape[0])"
   ]
  },
  {
   "cell_type": "code",
   "execution_count": 190,
   "metadata": {},
   "outputs": [],
   "source": [
    "def predict(hx,threshold=0.5):\n",
    "    return (hx>=threshold)"
   ]
  },
  {
   "cell_type": "code",
   "execution_count": 191,
   "metadata": {},
   "outputs": [],
   "source": [
    "input_node=2\n",
    "node=[3]\n",
    "#node is a list which contains the no of nodes in each hidden layer\n",
    "output_node=1"
   ]
  },
  {
   "cell_type": "code",
   "execution_count": 192,
   "metadata": {},
   "outputs": [],
   "source": [
    "nn=NeuralNetwork(input_node,node,output_node)\n",
    "loss=[]"
   ]
  },
  {
   "cell_type": "code",
   "execution_count": 195,
   "metadata": {},
   "outputs": [],
   "source": [
    "for i in range(600):\n",
    "    hx=nn.forward_propagation(x)\n",
    "    l=loss_func(hx,y)\n",
    "    loss.append(l)\n",
    "    nn.backward_propagation(x,y)   "
   ]
  },
  {
   "cell_type": "code",
   "execution_count": 196,
   "metadata": {},
   "outputs": [
    {
     "data": {
      "image/png": "[encoded data removed]",
      "text/plain": [
       "<Figure size 432x288 with 1 Axes>"
      ]
     },
     "metadata": {
      "needs_background": "light"
     },
     "output_type": "display_data"
    },
    {
     "name": "stdout",
     "output_type": "stream",
     "text": [
      "0.000514268971768467\n"
     ]
    }
   ],
   "source": [
    "plt.plot(loss)\n",
    "plt.xlabel('no of iteration')\n",
    "plt.ylabel('loss')\n",
    "plt.show()\n",
    "print(loss[-1])"
   ]
  },
  {
   "cell_type": "code",
   "execution_count": 210,
   "metadata": {},
   "outputs": [
    {
     "name": "stdout",
     "output_type": "stream",
     "text": [
      "[[5 0]\n",
      " [0 5]]\n",
      "ACCURACY : 100.0  %\n"
     ]
    }
   ],
   "source": [
    "y_pred=predict(hx)\n",
    "print(cm)\n",
    "print(\"ACCURACY :\",((cm[0][0]+cm[1][1])/np.sum(cm))*100,\" %\" )"
   ]
  }
 ],
 "metadata": {
  "kernelspec": {
   "display_name": "Python 3",
   "language": "python",
   "name": "python3"
  },
  "language_info": {
   "codemirror_mode": {
    "name": "ipython",
    "version": 3
   },
   "file_extension": ".py",
   "mimetype": "text/x-python",
   "name": "python",
   "nbconvert_exporter": "python",
   "pygments_lexer": "ipython3",
   "version": "3.7.3"
  }
 },
 "nbformat": 4,
 "nbformat_minor": 2
}
